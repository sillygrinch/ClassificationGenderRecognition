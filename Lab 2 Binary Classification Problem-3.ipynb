{
 "cells": [
  {
   "cell_type": "markdown",
   "metadata": {},
   "source": [
    "#  Binary Classification Problem \n",
    "\n",
    "### Problem 1: Gender Recognition by Voice\n",
    "\n",
    "From the description file at https://data.world/ml-research/gender-recognition-by-voice:\n",
    "\n",
    "In order to analyze gender by voice and speech, a training database was required. A database was built using thousands of samples of male and female voices, each labeled by their gender of male or female. Voice samples were collected from the following resources:\n",
    "\n",
    "*  [The Harvard-Haskins Database of Regularly-Timed Speech](http://nsi.wegall.net/)\n",
    "*  Telecommunications & Signal Processing Laboratory (TSP) Speech Database at McGill University\n",
    "*  [VoxForge Speech Corpus](http://www.repository.voxforge1.org/downloads/SpeechCorpus/Trunk/Audio/Main/8kHz_16bit/)\n",
    "*  [Festvox CMU_ARCTIC Speech Database at Carnegie Mellon University](http://festvox.org/cmu_arctic/dbs_awb.html)\n",
    "\n",
    "Each voice sample is stored as a .WAV file, which is then pre-processed for acoustic analysis using the specan function from the WarbleR R package. Specan measures 22 acoustic parameters on acoustic signals for which the start and end times are provided.\n",
    "\n",
    "The output from the pre-processed WAV files were saved into a CSV file, containing 3168 rows and 21 columns (20 columns for each feature and one label column for the classification of male or female). You can download the pre-processed dataset in CSV format, using the link above\n",
    "Acoustic Properties Measured\n",
    "\n",
    "The following acoustic properties of each voice are measured:\n",
    "\n",
    "*    __duration:__ length of signal\n",
    "*    __meanfreq:__ mean frequency (in kHz)\n",
    "*    __sd:__ standard deviation of frequency\n",
    "*    __median:__ median frequency (in kHz)\n",
    "*    __Q25:__ first quantile (in kHz)\n",
    "*    __Q75:__ third quantile (in kHz)\n",
    "*    __IQR:__ interquantile range (in kHz)\n",
    "*    __skew:__ skewness (see note in specprop description)\n",
    "*    __kurt:__ kurtosis (see note in specprop description)\n",
    "*    __sp.ent:__ spectral entropy\n",
    "*    __sfm:__ spectral flatness\n",
    "*    __mode:__ mode frequency\n",
    "*    __centroid:__ frequency centroid (see specprop)\n",
    "*    __peakf:__ peak frequency (frequency with highest energy)\n",
    "*    __meanfun:__ average of fundamental frequency measured across acoustic signal\n",
    "*    __minfun:__ minimum fundamental frequency measured across acoustic signal\n",
    "*    __maxfun:__ maximum fundamental frequency measured across acoustic signal\n",
    "*    __meandom:__ average of dominant frequency measured across acoustic signal\n",
    "*    __mindom:__ minimum of dominant frequency measured across acoustic signal\n",
    "*    __maxdom:__ maximum of dominant frequency measured across acoustic signal\n",
    "*    __dfrange:__ range of dominant frequency measured across acoustic signal\n",
    "*    __modindx:__ modulation index. Calculated as the accumulated absolute difference between adjacent measurements of fundamental frequencies divided by the frequency range\n",
    "\n",
    "The gender of the speaker is given in the __label__ column. \n",
    "\n",
    "Note, the features for duration and peak frequency (peakf) were removed from training. Duration refers to the length of the recording, which for training, is cut off at 20 seconds. Peakf was omitted from calculation due to time and CPU constraints in calculating the value. In this case, all records will have the same value for duration (20) and peak frequency (0).\n",
    "\n",
    "Load file using the code below. \n",
    "\n",
    "### Questions:\n",
    "\n",
    "1. Preform Logistic Regression on the two features  \"meanfun\" and \"IQR\" and draw the boundary. \n",
    "\n",
    "2. graphing the resulting fits. How does the two feature fit compare to the fit on all features?\n",
    "\n",
    "3. Preform Logistic Regression on all the features and print the socre."
   ]
  },
  {
   "cell_type": "code",
   "execution_count": 49,
   "metadata": {},
   "outputs": [
    {
     "data": {
      "text/html": [
       "<div>\n",
       "<style scoped>\n",
       "    .dataframe tbody tr th:only-of-type {\n",
       "        vertical-align: middle;\n",
       "    }\n",
       "\n",
       "    .dataframe tbody tr th {\n",
       "        vertical-align: top;\n",
       "    }\n",
       "\n",
       "    .dataframe thead th {\n",
       "        text-align: right;\n",
       "    }\n",
       "</style>\n",
       "<table border=\"1\" class=\"dataframe\">\n",
       "  <thead>\n",
       "    <tr style=\"text-align: right;\">\n",
       "      <th></th>\n",
       "      <th>meanfreq</th>\n",
       "      <th>sd</th>\n",
       "      <th>median</th>\n",
       "      <th>Q25</th>\n",
       "      <th>Q75</th>\n",
       "      <th>IQR</th>\n",
       "      <th>skew</th>\n",
       "      <th>kurt</th>\n",
       "      <th>sp.ent</th>\n",
       "      <th>sfm</th>\n",
       "      <th>...</th>\n",
       "      <th>centroid</th>\n",
       "      <th>meanfun</th>\n",
       "      <th>minfun</th>\n",
       "      <th>maxfun</th>\n",
       "      <th>meandom</th>\n",
       "      <th>mindom</th>\n",
       "      <th>maxdom</th>\n",
       "      <th>dfrange</th>\n",
       "      <th>modindx</th>\n",
       "      <th>label</th>\n",
       "    </tr>\n",
       "  </thead>\n",
       "  <tbody>\n",
       "    <tr>\n",
       "      <th>0</th>\n",
       "      <td>0.059781</td>\n",
       "      <td>0.064241</td>\n",
       "      <td>0.032027</td>\n",
       "      <td>0.015071</td>\n",
       "      <td>0.090193</td>\n",
       "      <td>0.075122</td>\n",
       "      <td>12.863462</td>\n",
       "      <td>274.402906</td>\n",
       "      <td>0.893369</td>\n",
       "      <td>0.491918</td>\n",
       "      <td>...</td>\n",
       "      <td>0.059781</td>\n",
       "      <td>0.084279</td>\n",
       "      <td>0.015702</td>\n",
       "      <td>0.275862</td>\n",
       "      <td>0.007812</td>\n",
       "      <td>0.007812</td>\n",
       "      <td>0.007812</td>\n",
       "      <td>0.000000</td>\n",
       "      <td>0.000000</td>\n",
       "      <td>male</td>\n",
       "    </tr>\n",
       "    <tr>\n",
       "      <th>1</th>\n",
       "      <td>0.066009</td>\n",
       "      <td>0.067310</td>\n",
       "      <td>0.040229</td>\n",
       "      <td>0.019414</td>\n",
       "      <td>0.092666</td>\n",
       "      <td>0.073252</td>\n",
       "      <td>22.423285</td>\n",
       "      <td>634.613855</td>\n",
       "      <td>0.892193</td>\n",
       "      <td>0.513724</td>\n",
       "      <td>...</td>\n",
       "      <td>0.066009</td>\n",
       "      <td>0.107937</td>\n",
       "      <td>0.015826</td>\n",
       "      <td>0.250000</td>\n",
       "      <td>0.009014</td>\n",
       "      <td>0.007812</td>\n",
       "      <td>0.054688</td>\n",
       "      <td>0.046875</td>\n",
       "      <td>0.052632</td>\n",
       "      <td>male</td>\n",
       "    </tr>\n",
       "    <tr>\n",
       "      <th>2</th>\n",
       "      <td>0.077316</td>\n",
       "      <td>0.083829</td>\n",
       "      <td>0.036718</td>\n",
       "      <td>0.008701</td>\n",
       "      <td>0.131908</td>\n",
       "      <td>0.123207</td>\n",
       "      <td>30.757155</td>\n",
       "      <td>1024.927705</td>\n",
       "      <td>0.846389</td>\n",
       "      <td>0.478905</td>\n",
       "      <td>...</td>\n",
       "      <td>0.077316</td>\n",
       "      <td>0.098706</td>\n",
       "      <td>0.015656</td>\n",
       "      <td>0.271186</td>\n",
       "      <td>0.007990</td>\n",
       "      <td>0.007812</td>\n",
       "      <td>0.015625</td>\n",
       "      <td>0.007812</td>\n",
       "      <td>0.046512</td>\n",
       "      <td>male</td>\n",
       "    </tr>\n",
       "    <tr>\n",
       "      <th>3</th>\n",
       "      <td>0.151228</td>\n",
       "      <td>0.072111</td>\n",
       "      <td>0.158011</td>\n",
       "      <td>0.096582</td>\n",
       "      <td>0.207955</td>\n",
       "      <td>0.111374</td>\n",
       "      <td>1.232831</td>\n",
       "      <td>4.177296</td>\n",
       "      <td>0.963322</td>\n",
       "      <td>0.727232</td>\n",
       "      <td>...</td>\n",
       "      <td>0.151228</td>\n",
       "      <td>0.088965</td>\n",
       "      <td>0.017798</td>\n",
       "      <td>0.250000</td>\n",
       "      <td>0.201497</td>\n",
       "      <td>0.007812</td>\n",
       "      <td>0.562500</td>\n",
       "      <td>0.554688</td>\n",
       "      <td>0.247119</td>\n",
       "      <td>male</td>\n",
       "    </tr>\n",
       "    <tr>\n",
       "      <th>4</th>\n",
       "      <td>0.135120</td>\n",
       "      <td>0.079146</td>\n",
       "      <td>0.124656</td>\n",
       "      <td>0.078720</td>\n",
       "      <td>0.206045</td>\n",
       "      <td>0.127325</td>\n",
       "      <td>1.101174</td>\n",
       "      <td>4.333713</td>\n",
       "      <td>0.971955</td>\n",
       "      <td>0.783568</td>\n",
       "      <td>...</td>\n",
       "      <td>0.135120</td>\n",
       "      <td>0.106398</td>\n",
       "      <td>0.016931</td>\n",
       "      <td>0.266667</td>\n",
       "      <td>0.712812</td>\n",
       "      <td>0.007812</td>\n",
       "      <td>5.484375</td>\n",
       "      <td>5.476562</td>\n",
       "      <td>0.208274</td>\n",
       "      <td>male</td>\n",
       "    </tr>\n",
       "  </tbody>\n",
       "</table>\n",
       "<p>5 rows × 21 columns</p>\n",
       "</div>"
      ],
      "text/plain": [
       "   meanfreq        sd    median       Q25       Q75       IQR       skew  \\\n",
       "0  0.059781  0.064241  0.032027  0.015071  0.090193  0.075122  12.863462   \n",
       "1  0.066009  0.067310  0.040229  0.019414  0.092666  0.073252  22.423285   \n",
       "2  0.077316  0.083829  0.036718  0.008701  0.131908  0.123207  30.757155   \n",
       "3  0.151228  0.072111  0.158011  0.096582  0.207955  0.111374   1.232831   \n",
       "4  0.135120  0.079146  0.124656  0.078720  0.206045  0.127325   1.101174   \n",
       "\n",
       "          kurt    sp.ent       sfm  ...  centroid   meanfun    minfun  \\\n",
       "0   274.402906  0.893369  0.491918  ...  0.059781  0.084279  0.015702   \n",
       "1   634.613855  0.892193  0.513724  ...  0.066009  0.107937  0.015826   \n",
       "2  1024.927705  0.846389  0.478905  ...  0.077316  0.098706  0.015656   \n",
       "3     4.177296  0.963322  0.727232  ...  0.151228  0.088965  0.017798   \n",
       "4     4.333713  0.971955  0.783568  ...  0.135120  0.106398  0.016931   \n",
       "\n",
       "     maxfun   meandom    mindom    maxdom   dfrange   modindx  label  \n",
       "0  0.275862  0.007812  0.007812  0.007812  0.000000  0.000000   male  \n",
       "1  0.250000  0.009014  0.007812  0.054688  0.046875  0.052632   male  \n",
       "2  0.271186  0.007990  0.007812  0.015625  0.007812  0.046512   male  \n",
       "3  0.250000  0.201497  0.007812  0.562500  0.554688  0.247119   male  \n",
       "4  0.266667  0.712812  0.007812  5.484375  5.476562  0.208274   male  \n",
       "\n",
       "[5 rows x 21 columns]"
      ]
     },
     "execution_count": 49,
     "metadata": {},
     "output_type": "execute_result"
    }
   ],
   "source": [
    "import pandas as pd\n",
    "\n",
    "data = pd.read_csv(\"voice.csv\")\n",
    "\n",
    "data.head()"
   ]
  },
  {
   "cell_type": "code",
   "execution_count": 50,
   "metadata": {},
   "outputs": [
    {
     "name": "stdout",
     "output_type": "stream",
     "text": [
      "['meanfreq', 'sd', 'median', 'Q25', 'Q75', 'IQR', 'skew', 'kurt', 'sp.ent', 'sfm', 'mode', 'centroid', 'meanfun', 'minfun', 'maxfun', 'meandom', 'mindom', 'maxdom', 'dfrange', 'modindx', 'label']\n"
     ]
    }
   ],
   "source": [
    "names = list(data)\n",
    "print(names)"
   ]
  },
  {
   "cell_type": "code",
   "execution_count": 51,
   "metadata": {},
   "outputs": [],
   "source": [
    "X = data.drop(columns=[\"label\"]) \n",
    "y = data[\"label\"] \n",
    "X = (X - X.mean()) / X.std()  # standarize the data"
   ]
  },
  {
   "cell_type": "code",
   "execution_count": 52,
   "metadata": {},
   "outputs": [],
   "source": [
    "y_train = pd.get_dummies(y) \n",
    "X_train = X[['meanfun',\"IQR\"]] "
   ]
  },
  {
   "cell_type": "code",
   "execution_count": 53,
   "metadata": {},
   "outputs": [
    {
     "data": {
      "text/plain": [
       "female    1584\n",
       "male      1584\n",
       "Name: label, dtype: int64"
      ]
     },
     "execution_count": 53,
     "metadata": {},
     "output_type": "execute_result"
    }
   ],
   "source": [
    "y.value_counts()"
   ]
  },
  {
   "cell_type": "code",
   "execution_count": 54,
   "metadata": {},
   "outputs": [
    {
     "data": {
      "text/plain": [
       "<matplotlib.legend.Legend at 0x7fb538d1e850>"
      ]
     },
     "execution_count": 54,
     "metadata": {},
     "output_type": "execute_result"
    },
    {
     "data": {
      "image/png": "[encoded data removed]",
      "text/plain": [
       "<Figure size 360x360 with 1 Axes>"
      ]
     },
     "metadata": {
      "needs_background": "light"
     },
     "output_type": "display_data"
    }
   ],
   "source": [
    "from matplotlib import pyplot as plt\n",
    "f, ax = plt.subplots(figsize=(5,5))\n",
    "\n",
    "I_m = y==\"male\"\n",
    "I_b = y==\"female\"\n",
    "\n",
    "plt.plot(X[\"meanfun\"][I_m],X[\"IQR\"][I_m],'o',label=\"male\")\n",
    "\n",
    "## We set alpha=.5 to try to avoid masking, but some points still will be burried. \n",
    "plt.plot(X[\"meanfun\"][I_b],X[\"IQR\"][I_b],'o',label=\"female\",alpha=.5)\n",
    "\n",
    "plt.xlabel(\"meanfun\",fontsize=20)\n",
    "plt.ylabel(\"IQR\",fontsize=20)\n",
    "plt.legend(fontsize=15)"
   ]
  },
  {
   "cell_type": "code",
   "execution_count": 55,
   "metadata": {},
   "outputs": [],
   "source": [
    "X_train = X[['meanfun',\"IQR\"]]"
   ]
  },
  {
   "cell_type": "code",
   "execution_count": 56,
   "metadata": {},
   "outputs": [
    {
     "data": {
      "text/plain": [
       "0         male\n",
       "1         male\n",
       "2         male\n",
       "3         male\n",
       "4         male\n",
       "         ...  \n",
       "3163    female\n",
       "3164    female\n",
       "3165    female\n",
       "3166    female\n",
       "3167    female\n",
       "Name: label, Length: 3168, dtype: object"
      ]
     },
     "execution_count": 56,
     "metadata": {},
     "output_type": "execute_result"
    }
   ],
   "source": [
    "y"
   ]
  },
  {
   "cell_type": "code",
   "execution_count": 57,
   "metadata": {},
   "outputs": [
    {
     "name": "stdout",
     "output_type": "stream",
     "text": [
      "Score: 0.966\n"
     ]
    }
   ],
   "source": [
    "from sklearn.linear_model import LogisticRegression\n",
    "\n",
    "clf = LogisticRegression()\n",
    "clf.fit(X_train,y)\n",
    "\n",
    "print(\"Score: %.3f\"%clf.score(X_train,y))"
   ]
  },
  {
   "cell_type": "code",
   "execution_count": 58,
   "metadata": {},
   "outputs": [
    {
     "data": {
      "text/plain": [
       "(-1.9081155923982005, 4.2025798818885)"
      ]
     },
     "execution_count": 58,
     "metadata": {},
     "output_type": "execute_result"
    },
    {
     "data": {
      "image/png": "[encoded data removed]",
      "text/plain": [
       "<Figure size 576x576 with 1 Axes>"
      ]
     },
     "metadata": {
      "needs_background": "light"
     },
     "output_type": "display_data"
    }
   ],
   "source": [
    "import numpy as np\n",
    "f, ax = plt.subplots(figsize=(8,8))\n",
    "\n",
    "X1 = X[\"meanfun\"]\n",
    "X2 = X[\"IQR\"]\n",
    "\n",
    "plt.plot(X1[I_m],X2[I_m],'o',label=\"male\")\n",
    "plt.plot(X1[I_b],X2[I_b],'o',label=\"female\",alpha=.5)\n",
    "\n",
    "## As before we generate a meshgrid, but now we use qda.predict to guess at the label. \n",
    "\n",
    "xm,xM = plt.xlim()\n",
    "ym,yM = plt.ylim()\n",
    "\n",
    "XX, YY = np.meshgrid(np.linspace(xm,xM, 100),np.linspace(ym,yM, 100)) \n",
    "\n",
    "## We now form a 10000x2 array of the (x,y) coordiantes for each point by reshaping\n",
    "## the XX and YY matricies and pasting them together. We need to feed a Nx2 vector\n",
    "## into the qda.predict function, otherwise it will think we have too many features.\n",
    "## We can reshape it later to get our grid back\n",
    "\n",
    "grid=np.concatenate([XX.reshape(-1,1),YY.reshape(-1,1)],axis=1)\n",
    "\n",
    "ZZ = clf.predict(grid).reshape(XX.shape)  ## We predict, and reshape back to the origional grid\n",
    "\n",
    "z1 = ZZ == 'male'\n",
    "z2 = ZZ == 'female'\n",
    "plt.plot(XX[z1],YY[z1],',',color=\"C0\")\n",
    "plt.plot(XX[z2],YY[z2],',',color=\"C1\")\n",
    "\n",
    "B0 = clf.intercept_\n",
    "B = clf.coef_\n",
    "\n",
    "u = np.linspace(xm,xM, 2)\n",
    "v = -(u*(B[0,0]) + B0[0])/(B[0,1])\n",
    "plt.plot(u,v,label=\"Decision Boundary\",color=\"black\")\n",
    "\n",
    "   \n",
    "\n",
    "## We now reset the x and y limits to make sure our view is centered tightly\n",
    "## around the data. \n",
    "\n",
    "plt.xlabel(\"meanfun\",fontsize=20)\n",
    "plt.ylabel(\"IQR\",fontsize=20)\n",
    "plt.legend(fontsize=15)\n",
    "\n",
    "ax.set_xlim([xm, xM])\n",
    "ax.set_ylim([ym, yM])"
   ]
  },
  {
   "cell_type": "code",
   "execution_count": 59,
   "metadata": {},
   "outputs": [
    {
     "data": {
      "text/html": [
       "<div>\n",
       "<style scoped>\n",
       "    .dataframe tbody tr th:only-of-type {\n",
       "        vertical-align: middle;\n",
       "    }\n",
       "\n",
       "    .dataframe tbody tr th {\n",
       "        vertical-align: top;\n",
       "    }\n",
       "\n",
       "    .dataframe thead th {\n",
       "        text-align: right;\n",
       "    }\n",
       "</style>\n",
       "<table border=\"1\" class=\"dataframe\">\n",
       "  <thead>\n",
       "    <tr style=\"text-align: right;\">\n",
       "      <th></th>\n",
       "      <th>meanfreq</th>\n",
       "      <th>sd</th>\n",
       "      <th>median</th>\n",
       "      <th>Q25</th>\n",
       "      <th>Q75</th>\n",
       "      <th>IQR</th>\n",
       "      <th>skew</th>\n",
       "      <th>kurt</th>\n",
       "      <th>sp.ent</th>\n",
       "      <th>sfm</th>\n",
       "      <th>mode</th>\n",
       "      <th>centroid</th>\n",
       "      <th>meanfun</th>\n",
       "      <th>minfun</th>\n",
       "      <th>maxfun</th>\n",
       "      <th>meandom</th>\n",
       "      <th>mindom</th>\n",
       "      <th>maxdom</th>\n",
       "      <th>dfrange</th>\n",
       "      <th>modindx</th>\n",
       "    </tr>\n",
       "  </thead>\n",
       "  <tbody>\n",
       "    <tr>\n",
       "      <th>0</th>\n",
       "      <td>-4.048609</td>\n",
       "      <td>0.427288</td>\n",
       "      <td>-4.224234</td>\n",
       "      <td>-2.575695</td>\n",
       "      <td>-5.692709</td>\n",
       "      <td>-0.214744</td>\n",
       "      <td>2.292944</td>\n",
       "      <td>1.762668</td>\n",
       "      <td>-0.039077</td>\n",
       "      <td>0.471501</td>\n",
       "      <td>-2.140872</td>\n",
       "      <td>-4.048609</td>\n",
       "      <td>-1.811752</td>\n",
       "      <td>-1.097825</td>\n",
       "      <td>0.565869</td>\n",
       "      <td>-1.563958</td>\n",
       "      <td>-0.708292</td>\n",
       "      <td>-1.431196</td>\n",
       "      <td>-1.418913</td>\n",
       "      <td>-1.454543</td>\n",
       "    </tr>\n",
       "    <tr>\n",
       "      <th>1</th>\n",
       "      <td>-3.840447</td>\n",
       "      <td>0.611573</td>\n",
       "      <td>-3.998662</td>\n",
       "      <td>-2.486492</td>\n",
       "      <td>-5.588105</td>\n",
       "      <td>-0.258445</td>\n",
       "      <td>4.547338</td>\n",
       "      <td>4.432308</td>\n",
       "      <td>-0.065226</td>\n",
       "      <td>0.594337</td>\n",
       "      <td>-2.140872</td>\n",
       "      <td>-3.840447</td>\n",
       "      <td>-1.079424</td>\n",
       "      <td>-1.091360</td>\n",
       "      <td>-0.293984</td>\n",
       "      <td>-1.561669</td>\n",
       "      <td>-0.708292</td>\n",
       "      <td>-1.417883</td>\n",
       "      <td>-1.405597</td>\n",
       "      <td>-1.013943</td>\n",
       "    </tr>\n",
       "    <tr>\n",
       "      <th>2</th>\n",
       "      <td>-3.462520</td>\n",
       "      <td>1.603595</td>\n",
       "      <td>-4.095204</td>\n",
       "      <td>-2.706559</td>\n",
       "      <td>-3.928079</td>\n",
       "      <td>0.909182</td>\n",
       "      <td>6.512628</td>\n",
       "      <td>7.325050</td>\n",
       "      <td>-1.083559</td>\n",
       "      <td>0.398198</td>\n",
       "      <td>-2.140872</td>\n",
       "      <td>-3.462520</td>\n",
       "      <td>-1.365152</td>\n",
       "      <td>-1.100223</td>\n",
       "      <td>0.410416</td>\n",
       "      <td>-1.563620</td>\n",
       "      <td>-0.708292</td>\n",
       "      <td>-1.428977</td>\n",
       "      <td>-1.416694</td>\n",
       "      <td>-1.065175</td>\n",
       "    </tr>\n",
       "    <tr>\n",
       "      <th>3</th>\n",
       "      <td>-0.992001</td>\n",
       "      <td>0.899856</td>\n",
       "      <td>-0.759334</td>\n",
       "      <td>-0.901276</td>\n",
       "      <td>-0.711092</td>\n",
       "      <td>0.632590</td>\n",
       "      <td>-0.449787</td>\n",
       "      <td>-0.240061</td>\n",
       "      <td>1.516143</td>\n",
       "      <td>1.797056</td>\n",
       "      <td>-1.054410</td>\n",
       "      <td>-0.992001</td>\n",
       "      <td>-1.666703</td>\n",
       "      <td>-0.988777</td>\n",
       "      <td>-0.293984</td>\n",
       "      <td>-1.195178</td>\n",
       "      <td>-0.708292</td>\n",
       "      <td>-1.273666</td>\n",
       "      <td>-1.261333</td>\n",
       "      <td>0.614189</td>\n",
       "    </tr>\n",
       "    <tr>\n",
       "      <th>4</th>\n",
       "      <td>-1.530399</td>\n",
       "      <td>1.322352</td>\n",
       "      <td>-1.676683</td>\n",
       "      <td>-1.268195</td>\n",
       "      <td>-0.791904</td>\n",
       "      <td>1.005429</td>\n",
       "      <td>-0.480835</td>\n",
       "      <td>-0.238902</td>\n",
       "      <td>1.708067</td>\n",
       "      <td>2.114406</td>\n",
       "      <td>-0.790389</td>\n",
       "      <td>-1.530399</td>\n",
       "      <td>-1.127056</td>\n",
       "      <td>-1.033852</td>\n",
       "      <td>0.260144</td>\n",
       "      <td>-0.221625</td>\n",
       "      <td>-0.708292</td>\n",
       "      <td>0.124135</td>\n",
       "      <td>0.136911</td>\n",
       "      <td>0.289001</td>\n",
       "    </tr>\n",
       "  </tbody>\n",
       "</table>\n",
       "</div>"
      ],
      "text/plain": [
       "   meanfreq        sd    median       Q25       Q75       IQR      skew  \\\n",
       "0 -4.048609  0.427288 -4.224234 -2.575695 -5.692709 -0.214744  2.292944   \n",
       "1 -3.840447  0.611573 -3.998662 -2.486492 -5.588105 -0.258445  4.547338   \n",
       "2 -3.462520  1.603595 -4.095204 -2.706559 -3.928079  0.909182  6.512628   \n",
       "3 -0.992001  0.899856 -0.759334 -0.901276 -0.711092  0.632590 -0.449787   \n",
       "4 -1.530399  1.322352 -1.676683 -1.268195 -0.791904  1.005429 -0.480835   \n",
       "\n",
       "       kurt    sp.ent       sfm      mode  centroid   meanfun    minfun  \\\n",
       "0  1.762668 -0.039077  0.471501 -2.140872 -4.048609 -1.811752 -1.097825   \n",
       "1  4.432308 -0.065226  0.594337 -2.140872 -3.840447 -1.079424 -1.091360   \n",
       "2  7.325050 -1.083559  0.398198 -2.140872 -3.462520 -1.365152 -1.100223   \n",
       "3 -0.240061  1.516143  1.797056 -1.054410 -0.992001 -1.666703 -0.988777   \n",
       "4 -0.238902  1.708067  2.114406 -0.790389 -1.530399 -1.127056 -1.033852   \n",
       "\n",
       "     maxfun   meandom    mindom    maxdom   dfrange   modindx  \n",
       "0  0.565869 -1.563958 -0.708292 -1.431196 -1.418913 -1.454543  \n",
       "1 -0.293984 -1.561669 -0.708292 -1.417883 -1.405597 -1.013943  \n",
       "2  0.410416 -1.563620 -0.708292 -1.428977 -1.416694 -1.065175  \n",
       "3 -0.293984 -1.195178 -0.708292 -1.273666 -1.261333  0.614189  \n",
       "4  0.260144 -0.221625 -0.708292  0.124135  0.136911  0.289001  "
      ]
     },
     "execution_count": 59,
     "metadata": {},
     "output_type": "execute_result"
    }
   ],
   "source": [
    "X.head()"
   ]
  },
  {
   "cell_type": "code",
   "execution_count": 60,
   "metadata": {},
   "outputs": [
    {
     "name": "stdout",
     "output_type": "stream",
     "text": [
      "Score: 0.975\n"
     ]
    }
   ],
   "source": [
    "clf = LogisticRegression()\n",
    "clf.fit(X,y)\n",
    "\n",
    "print(\"Score: %.3f\"%clf.score(X,y))"
   ]
  },
  {
   "cell_type": "code",
   "execution_count": 61,
   "metadata": {},
   "outputs": [
    {
     "name": "stdout",
     "output_type": "stream",
     "text": [
      "Logistic Regression Score: 0.981\n"
     ]
    }
   ],
   "source": [
    "from sklearn.model_selection import train_test_split\n",
    "from sklearn.metrics import accuracy_score\n",
    "\n",
    "X_train, X_test, y_train, y_test = train_test_split(X, y, test_size=0.1)\n",
    "\n",
    "## Logisitic Regression\n",
    "\n",
    "clf = LogisticRegression()\n",
    "clf.fit(X_train,y_train)\n",
    "print(\"Logistic Regression Score: %.3f\"%clf.score(X_test,y_test))"
   ]
  },
  {
   "cell_type": "code",
   "execution_count": 62,
   "metadata": {},
   "outputs": [],
   "source": [
    "from sklearn.model_selection import cross_val_score\n",
    "from sklearn.model_selection import LeaveOneOut\n",
    "from sklearn.model_selection import KFold"
   ]
  },
  {
   "cell_type": "code",
   "execution_count": 63,
   "metadata": {},
   "outputs": [
    {
     "data": {
      "text/plain": [
       "0.9725392325200654"
      ]
     },
     "execution_count": 63,
     "metadata": {},
     "output_type": "execute_result"
    }
   ],
   "source": [
    "crossvalidation = KFold(n_splits=10, random_state=1, shuffle=True)\n",
    "\n",
    "clf = LogisticRegression()\n",
    "X_current = X\n",
    "model = clf.fit(X_current, y)\n",
    "scores = cross_val_score(model, X_current, y, cv=crossvalidation,n_jobs=1)\n",
    "np.mean(np.abs(scores))"
   ]
  },
  {
   "cell_type": "code",
   "execution_count": 64,
   "metadata": {},
   "outputs": [
    {
     "data": {
      "text/plain": [
       "array([0.98422713, 0.95583596, 0.97791798, 0.97160883, 0.97160883,\n",
       "       0.96214511, 0.96845426, 0.98422713, 0.98417722, 0.96518987])"
      ]
     },
     "execution_count": 64,
     "metadata": {},
     "output_type": "execute_result"
    }
   ],
   "source": [
    "np.abs(scores)"
   ]
  },
  {
   "cell_type": "code",
   "execution_count": 65,
   "metadata": {},
   "outputs": [],
   "source": [
    "from sklearn.preprocessing import PolynomialFeatures"
   ]
  },
  {
   "cell_type": "code",
   "execution_count": 66,
   "metadata": {},
   "outputs": [
    {
     "name": "stdout",
     "output_type": "stream",
     "text": [
      "Degree-1 polynomial Score: 0.9725392325200654, STD: 0.009471303152580327\n"
     ]
    }
   ],
   "source": [
    "crossvalidation = KFold(n_splits=10, random_state=1, shuffle=True)\n",
    "\n",
    "clf = LogisticRegression()\n",
    "\n",
    "for i in range(1,2):\n",
    "    poly = PolynomialFeatures(degree=i)\n",
    "    X_current = poly.fit_transform(X)\n",
    "    model = clf.fit(X_current, y)\n",
    "    scores = cross_val_score(model, X_current, y, cv=crossvalidation,\n",
    " n_jobs=1)\n",
    "    \n",
    "    print(\"Degree-\"+str(i)+\" polynomial Score: \" + str(np.mean(np.abs(scores))) + \", STD: \" + str(np.std(scores)))"
   ]
  },
  {
   "cell_type": "code",
   "execution_count": null,
   "metadata": {},
   "outputs": [],
   "source": []
  },
  {
   "cell_type": "code",
   "execution_count": null,
   "metadata": {},
   "outputs": [],
   "source": []
  },
  {
   "cell_type": "code",
   "execution_count": null,
   "metadata": {},
   "outputs": [],
   "source": []
  },
  {
   "cell_type": "code",
   "execution_count": null,
   "metadata": {},
   "outputs": [],
   "source": []
  },
  {
   "cell_type": "code",
   "execution_count": null,
   "metadata": {},
   "outputs": [],
   "source": []
  },
  {
   "cell_type": "code",
   "execution_count": null,
   "metadata": {},
   "outputs": [],
   "source": []
  }
 ],
 "metadata": {
  "kernelspec": {
   "display_name": "Python 3",
   "language": "python",
   "name": "python3"
  },
  "language_info": {
   "codemirror_mode": {
    "name": "ipython",
    "version": 3
   },
   "file_extension": ".py",
   "mimetype": "text/x-python",
   "name": "python",
   "nbconvert_exporter": "python",
   "pygments_lexer": "ipython3",
   "version": "3.8.8"
  }
 },
 "nbformat": 4,
 "nbformat_minor": 2
}
